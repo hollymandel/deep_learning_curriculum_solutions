{
 "cells": [
  {
   "cell_type": "code",
   "execution_count": 1,
   "id": "e5d4644d-ae2f-4c07-9bd6-0e9c9df379e2",
   "metadata": {
    "tags": []
   },
   "outputs": [],
   "source": [
    "import numpy as np\n",
    "import pickle\n",
    "import re"
   ]
  },
  {
   "cell_type": "code",
   "execution_count": 2,
   "id": "e374fb87-afb6-4925-a094-d4105b779a8b",
   "metadata": {
    "tags": []
   },
   "outputs": [],
   "source": [
    "with open(\"shakespeare.txt\", \"r\") as file:\n",
    "    contents = file.read()\n",
    "    \n",
    "contents = contents.lower()\n",
    "tokenized = re.split('[^a-z]+',  contents)\n",
    "tokenized = list(filter(None, tokenized))"
   ]
  },
  {
   "cell_type": "code",
   "execution_count": 3,
   "id": "96b5e5c7-dc0a-47ad-ad16-2a392da12658",
   "metadata": {
    "tags": []
   },
   "outputs": [],
   "source": [
    "token_list = list(set(tokenized))\n",
    "token_dict = { token_list[i]: i for i in range(len(token_list)) }"
   ]
  },
  {
   "cell_type": "code",
   "execution_count": 4,
   "id": "797e22ab-d958-442c-ab3d-1fcce905a251",
   "metadata": {
    "tags": []
   },
   "outputs": [],
   "source": [
    "with open(\"shakespeare_token_dict.pkl\", 'wb') as file:\n",
    "    pickle.dump(token_dict, file)"
   ]
  },
  {
   "cell_type": "code",
   "execution_count": 5,
   "id": "b59e7325-e636-48a2-b0b1-edfce5ef0382",
   "metadata": {
    "tags": []
   },
   "outputs": [],
   "source": [
    "indexed = []\n",
    "for token in tokenized:\n",
    "    indexed.append(token_dict[token])\n",
    "    \n",
    "with open(\"shakespeare_indices.pkl\", 'wb') as file:\n",
    "    pickle.dump(indexed, file)"
   ]
  }
 ],
 "metadata": {
  "kernelspec": {
   "display_name": "Python 3 (ipykernel)",
   "language": "python",
   "name": "python3"
  },
  "language_info": {
   "codemirror_mode": {
    "name": "ipython",
    "version": 3
   },
   "file_extension": ".py",
   "mimetype": "text/x-python",
   "name": "python",
   "nbconvert_exporter": "python",
   "pygments_lexer": "ipython3",
   "version": "3.10.9"
  }
 },
 "nbformat": 4,
 "nbformat_minor": 5
}
