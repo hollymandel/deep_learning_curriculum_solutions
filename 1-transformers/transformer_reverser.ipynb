{
 "cells": [
  {
   "cell_type": "code",
   "execution_count": 1,
   "id": "83ad77ab-4d23-44a3-bee2-ea6495941688",
   "metadata": {
    "tags": []
   },
   "outputs": [
    {
     "name": "stderr",
     "output_type": "stream",
     "text": [
      "/Users/hollymandel/miniconda3/lib/python3.10/site-packages/torchvision/io/image.py:13: UserWarning: Failed to load image Python extension: 'dlopen(/Users/hollymandel/miniconda3/lib/python3.10/site-packages/torchvision/image.so, 0x0006): Symbol not found: (__ZN3c1017RegisterOperatorsD1Ev)\n",
      "  Referenced from: '/Users/hollymandel/miniconda3/lib/python3.10/site-packages/torchvision/image.so'\n",
      "  Expected in: '/Users/hollymandel/miniconda3/lib/python3.10/site-packages/torch/lib/libtorch_cpu.dylib''If you don't plan on using image functionality from `torchvision.io`, you can ignore this warning. Otherwise, there might be something wrong with your environment. Did you have `libjpeg` or `libpng` installed before building `torchvision` from source?\n",
      "  warn(\n"
     ]
    }
   ],
   "source": [
    "import torch\n",
    "import numpy as np\n",
    "import torchvision\n",
    "from torch.utils.data import Dataset\n",
    "from torchvision import datasets\n",
    "from torchvision.transforms import ToTensor\n",
    "import matplotlib.pyplot as plt\n",
    "from torch import nn\n",
    "from torch.utils.data import DataLoader, TensorDataset\n",
    "from torchvision import datasets, transforms\n",
    "import transformer as transformer\n",
    "import pickle\n",
    "\n",
    "PRINT_EVERY = 100\n",
    "N_EPOCHS = 100\n",
    "LR = 1e-3\n",
    "ES_PATIENCE = 10\n",
    "N_SAMPLES = int(1e6)\n",
    "SEQ_LENGTH = 10\n",
    "N_REPEATS = 6\n",
    "BATCH_SIZE = 2**8"
   ]
  },
  {
   "cell_type": "code",
   "execution_count": 2,
   "id": "28e3788d-2a5a-486d-99ef-c4cad42b6852",
   "metadata": {
    "tags": []
   },
   "outputs": [],
   "source": [
    "class binary_reverse(Dataset):\n",
    "    def __init__(self, B = N_SAMPLES, N = SEQ_LENGTH, n_repeats = N_REPEATS):\n",
    "        rand_data = np.eye(2)[np.random.choice(2, size=[B,int(N/2)])]\n",
    "        rand_data = np.concatenate([rand_data,np.flip(rand_data,1)],1)\n",
    "        rand_data = torch.from_numpy(rand_data.astype(np.float32))\n",
    "        rand_data = torch.cat(\n",
    "            [ rand_data[:,:,[0]].repeat(1,1,n_repeats),\n",
    "            rand_data[:,:,[1]].repeat(1,1,n_repeats) ],\n",
    "            dim = 2)\n",
    "        self.data = rand_data[:,:-1,:]\n",
    "        self.labels = rand_data[:,1:,[0,n_repeats]]\n",
    "        \n",
    "    def __len__(self):\n",
    "        return len(self.data)\n",
    "\n",
    "    def __getitem__(self, index):\n",
    "        x = self.data[index]\n",
    "        y = self.labels[index]\n",
    "        return x, y"
   ]
  },
  {
   "cell_type": "code",
   "execution_count": 3,
   "id": "297f448e-983b-4a0c-9f9b-2b5f048ff02d",
   "metadata": {},
   "outputs": [],
   "source": [
    "class EarlyStopping:\n",
    "    def __init__(self, patience=ES_PATIENCE, verbose=False, delta=0):\n",
    "        self.patience = patience\n",
    "        self.verbose = verbose\n",
    "        self.counter = 0\n",
    "        self.best_loss = np.infty\n",
    "        self.early_stop = False\n",
    "        self.delta = delta\n",
    "\n",
    "    def __call__(self, loss):\n",
    "        if loss > self.best_loss + self.delta:\n",
    "            self.counter += 1\n",
    "            if self.verbose:\n",
    "                print(f'EarlyStopping counter: {self.counter} out of {self.patience}')\n",
    "            if self.counter >= self.patience:\n",
    "                self.early_stop = True\n",
    "        else:\n",
    "            self.best_loss = min(loss, self.best_loss)\n",
    "            self.counter = 0"
   ]
  },
  {
   "cell_type": "code",
   "execution_count": 4,
   "id": "4249a4ac-ca3c-4ff4-90cf-5187b5703f59",
   "metadata": {},
   "outputs": [],
   "source": [
    "def train_model(\n",
    "    model, \n",
    "    data_loader, \n",
    "    optimizer_type = torch.optim.Adam, \n",
    "    # criterion = nn.MSELoss(), \n",
    "    criterion = nn.CrossEntropyLoss(),\n",
    "    lr = LR,\n",
    "    n_epochs = N_EPOCHS, \n",
    "    print_every = PRINT_EVERY,\n",
    "    es_patience = ES_PATIENCE\n",
    "):\n",
    "    optimizer = optimizer_type(model.parameters(), lr)\n",
    "    es = EarlyStopping(patience=es_patience, verbose=False)\n",
    "    for epoch in range(n_epochs):\n",
    "        running_loss = 0.0\n",
    "        for i, dt in enumerate(data_loader, 0):\n",
    "            inputs, labels = dt\n",
    "            optimizer.zero_grad()\n",
    "            outputs = model(inputs)\n",
    "            # loss = criterion(outputs, labels)\n",
    "            loss = criterion(outputs.view(-1,2), labels.argmax(-1).view(-1))\n",
    "            loss.backward()\n",
    "            optimizer.step()\n",
    "            running_loss += loss.item()\n",
    "            if i % print_every == print_every-1:\n",
    "                print('[%d, %5d] loss: %.3f' % (epoch + 1, i + 1, 1e3 * running_loss / print_every))\n",
    "                es(running_loss)\n",
    "                if es.early_stop:\n",
    "                    return\n",
    "                running_loss = 0.0"
   ]
  },
  {
   "cell_type": "code",
   "execution_count": 5,
   "id": "841a12e3-12d0-456f-acea-1f993193ee88",
   "metadata": {
    "tags": []
   },
   "outputs": [
    {
     "name": "stderr",
     "output_type": "stream",
     "text": [
      "/Users/hollymandel/Documents/llm_curriculum/1-transformers/transformer.py:32: UserWarning: torch.range is deprecated and will be removed in a future release because its behavior is inconsistent with Python's range builtin. Instead, use torch.arange, which produces values in [start, end).\n",
      "  ks = torch.transpose(torch.range(0,M/2-1).repeat(N,1), 0,1)\n",
      "/Users/hollymandel/Documents/llm_curriculum/1-transformers/transformer.py:22: UserWarning: torch.range is deprecated and will be removed in a future release because its behavior is inconsistent with Python's range builtin. Instead, use torch.arange, which produces values in [start, end).\n",
      "  return (torch.range(1,N).repeat(N,1) > torch.range(1,N).repeat(N,1).transpose(0,1)\n"
     ]
    },
    {
     "name": "stdout",
     "output_type": "stream",
     "text": [
      "[1,   100] loss: 700.893\n",
      "[1,   200] loss: 504.163\n",
      "[1,   300] loss: 360.859\n",
      "[1,   400] loss: 328.545\n",
      "[1,   500] loss: 322.402\n",
      "[1,   600] loss: 319.744\n",
      "[1,   700] loss: 318.757\n",
      "[1,   800] loss: 317.776\n",
      "[1,   900] loss: 315.101\n",
      "[1,  1000] loss: 315.328\n",
      "[1,  1100] loss: 315.186\n",
      "[1,  1200] loss: 313.863\n",
      "[1,  1300] loss: 315.422\n",
      "[1,  1400] loss: 313.970\n",
      "[1,  1500] loss: 312.933\n",
      "[1,  1600] loss: 312.631\n",
      "[1,  1700] loss: 312.154\n",
      "[1,  1800] loss: 313.748\n",
      "[1,  1900] loss: 312.525\n",
      "[1,  2000] loss: 312.978\n",
      "[1,  2100] loss: 313.241\n",
      "[1,  2200] loss: 312.779\n",
      "[1,  2300] loss: 312.380\n",
      "[1,  2400] loss: 312.212\n",
      "[1,  2500] loss: 312.433\n",
      "[1,  2600] loss: 313.380\n",
      "[1,  2700] loss: 312.331\n"
     ]
    }
   ],
   "source": [
    "rand_data = binary_reverse(n_repeats = 1)\n",
    "tf = transformer.Transformer(\n",
    "    n_heads=1,\n",
    "    N = SEQ_LENGTH-1,\n",
    "    M = 12,\n",
    "    embed_dim = 2,\n",
    "    d_target = 2\n",
    ")\n",
    "\n",
    "data_loader = DataLoader(rand_data, batch_size=32, shuffle=True)\n",
    "train_model(tf, data_loader, lr = 5e-3, )"
   ]
  },
  {
   "cell_type": "code",
   "execution_count": 6,
   "id": "f15a7937-ead2-4a9b-8936-20f75c69409c",
   "metadata": {
    "tags": []
   },
   "outputs": [
    {
     "name": "stdout",
     "output_type": "stream",
     "text": [
      "post-errors: [0.500332, 0.5004109999999999, 0.5001789999999999, 0.5003500000000001, 0.0004709999999999992, 0.0004849999999999577, 0.0005089999999999817, 0.0004950000000000232, 0.0004089999999999927]\n"
     ]
    },
    {
     "data": {
      "text/plain": [
       "[<matplotlib.lines.Line2D at 0x13acc9240>]"
      ]
     },
     "execution_count": 6,
     "metadata": {},
     "output_type": "execute_result"
    },
    {
     "data": {
      "image/png": "[encoded data removed]",
      "text/plain": [
       "<Figure size 640x480 with 1 Axes>"
      ]
     },
     "metadata": {},
     "output_type": "display_data"
    }
   ],
   "source": [
    "def error_rate(target, output):\n",
    "    tgt_argmax = target.argmax(2).detach().numpy()\n",
    "    out_argmax = output.argmax(2).detach().numpy()\n",
    "    N = tgt_argmax.size\n",
    "    return 1-np.sum(tgt_argmax * out_argmax + (1-tgt_argmax)*(1-out_argmax))/N\n",
    "\n",
    "errs = []\n",
    "for i in range(SEQ_LENGTH-1):\n",
    "    errs.append(\n",
    "        error_rate(rand_data[:][1][:,i:i+1,:], tf(rand_data[:][0])[:,i:i+1,:])\n",
    "    )\n",
    "print(f\"post-errors: {errs}\")\n",
    "plt.plot(errs)"
   ]
  },
  {
   "cell_type": "code",
   "execution_count": null,
   "id": "bd193eb9-3f1b-4a8e-a654-b85e2296c112",
   "metadata": {},
   "outputs": [],
   "source": []
  }
 ],
 "metadata": {
  "kernelspec": {
   "display_name": "Python 3 (ipykernel)",
   "language": "python",
   "name": "python3"
  },
  "language_info": {
   "codemirror_mode": {
    "name": "ipython",
    "version": 3
   },
   "file_extension": ".py",
   "mimetype": "text/x-python",
   "name": "python",
   "nbconvert_exporter": "python",
   "pygments_lexer": "ipython3",
   "version": "3.10.9"
  }
 },
 "nbformat": 4,
 "nbformat_minor": 5
}
